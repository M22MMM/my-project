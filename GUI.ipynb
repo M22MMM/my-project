{
 "cells": [
  {
   "cell_type": "markdown",
   "metadata": {},
   "source": [
    "# gui"
   ]
  },
  {
   "cell_type": "markdown",
   "metadata": {},
   "source": [
    "Tkinter"
   ]
  },
  {
   "cell_type": "code",
   "execution_count": 1,
   "metadata": {},
   "outputs": [],
   "source": [
    "import tkinter as tk\n",
    "\n",
    "def on_button_click():\n",
    "    label.config(text=\"Button clicked!\")\n",
    "\n",
    "root = tk.Tk()\n",
    "root.title(\"Tkinter Example\")\n",
    "\n",
    "label = tk.Label(root, text=\"Hello, Tkinter!\")\n",
    "label.pack()\n",
    "\n",
    "button = tk.Button(root, text=\"Click me!\", command=on_button_click)\n",
    "button.pack()\n",
    "\n",
    "root.mainloop()\n"
   ]
  },
  {
   "cell_type": "markdown",
   "metadata": {},
   "source": [
    "    Creating a Simple Calculator:"
   ]
  },
  {
   "cell_type": "code",
   "execution_count": null,
   "metadata": {},
   "outputs": [],
   "source": [
    "import tkinter as tk\n",
    "\n",
    "def calculate():\n",
    "    try:\n",
    "        result.set(eval(entry.get()))\n",
    "    except:\n",
    "        result.set(\"Error\")\n",
    "\n",
    "root = tk.Tk()\n",
    "root.title(\"Simple Calculator\")\n",
    "\n",
    "entry = tk.Entry(root, width=20)\n",
    "entry.grid(row=0, column=0, columnspan=4)\n",
    "\n",
    "result = tk.StringVar()\n",
    "result.set(\"Result\")\n",
    "result_label = tk.Label(root, textvariable=result)\n",
    "result_label.grid(row=1, column=0, columnspan=4)\n",
    "\n",
    "buttons = [\n",
    "    '7', '8', '9', '/',\n",
    "    '4', '5', '6', '*',\n",
    "    '1', '2', '3', '-',\n",
    "    '0', '.', '=', '+'\n",
    "]\n",
    "\n",
    "row = 2\n",
    "col = 0\n",
    "for button in buttons:\n",
    "    if button == '=':\n",
    "        tk.Button(root, text=button, command=calculate).grid(row=row, column=col)\n",
    "    else:\n",
    "        tk.Button(root, text=button, command=lambda b=button: entry.insert(tk.END, b)).grid(row=row, column=col)\n",
    "    col += 1\n",
    "    if col > 3:\n",
    "        col = 0\n",
    "        row += 1\n",
    "\n",
    "root.mainloop()\n"
   ]
  },
  {
   "cell_type": "markdown",
   "metadata": {},
   "source": [
    "    Creating a Simple Todo List:"
   ]
  },
  {
   "cell_type": "code",
   "execution_count": null,
   "metadata": {},
   "outputs": [],
   "source": [
    "import tkinter as tk\n",
    "\n",
    "def add_task():\n",
    "    task = task_entry.get()\n",
    "    if task:\n",
    "        listbox.insert(tk.END, task)\n",
    "        task_entry.delete(0, tk.END)\n",
    "\n",
    "def delete_task():\n",
    "    try:\n",
    "        selected = listbox.curselection()[0]\n",
    "        listbox.delete(selected)\n",
    "    except IndexError:\n",
    "        pass\n",
    "\n",
    "root = tk.Tk()\n",
    "root.title(\"Simple Todo List\")\n",
    "\n",
    "task_entry = tk.Entry(root, width=30)\n",
    "task_entry.pack(pady=10)\n",
    "\n",
    "add_button = tk.Button(root, text=\"Add Task\", command=add_task)\n",
    "add_button.pack()\n",
    "\n",
    "delete_button = tk.Button(root, text=\"Delete Task\", command=delete_task)\n",
    "delete_button.pack()\n",
    "\n",
    "listbox = tk.Listbox(root, width=50)\n",
    "listbox.pack()\n",
    "\n",
    "root.mainloop()\n"
   ]
  },
  {
   "cell_type": "markdown",
   "metadata": {},
   "source": [
    "Creating a Simple Text Editor :"
   ]
  },
  {
   "cell_type": "code",
   "execution_count": null,
   "metadata": {},
   "outputs": [],
   "source": [
    "import tkinter as tk\n",
    "from tkinter import filedialog\n",
    "\n",
    "def open_file():\n",
    "    file_path = filedialog.askopenfilename()\n",
    "    if file_path:\n",
    "        with open(file_path, 'r') as file:\n",
    "            text.delete(1.0, tk.END)\n",
    "            text.insert(tk.END, file.read())\n",
    "\n",
    "def save_file():\n",
    "    file_path = filedialog.asksaveasfilename()\n",
    "    if file_path:\n",
    "        with open(file_path, 'w') as file:\n",
    "            file.write(text.get(1.0, tk.END))\n",
    "\n",
    "root = tk.Tk()\n",
    "root.title(\"Simple Text Editor\")\n",
    "\n",
    "menu_bar = tk.Menu(root)\n",
    "file_menu = tk.Menu(menu_bar, tearoff=0)\n",
    "file_menu.add_command(label=\"Open\", command=open_file)\n",
    "file_menu.add_command(label=\"Save\", command=save_file)\n",
    "file_menu.add_separator()\n",
    "file_menu.add_command(label=\"Exit\", command=root.quit)\n",
    "menu_bar.add_cascade(label=\"File\", menu=file_menu)\n",
    "\n",
    "root.config(menu=menu_bar)\n",
    "\n",
    "text = tk.Text(root)\n",
    "text.pack(fill=tk.BOTH, expand=True)\n",
    "\n",
    "root.mainloop()\n"
   ]
  },
  {
   "cell_type": "markdown",
   "metadata": {},
   "source": [
    "    Creating a Simple Image Viewer:"
   ]
  },
  {
   "cell_type": "code",
   "execution_count": null,
   "metadata": {},
   "outputs": [],
   "source": [
    "import tkinter as tk\n",
    "from PIL import ImageTk, Image\n",
    "from tkinter import filedialog\n",
    "\n",
    "def open_image():\n",
    "    file_path = filedialog.askopenfilename()\n",
    "    if file_path:\n",
    "        image = Image.open(file_path)\n",
    "        image.thumbnail((300, 300))\n",
    "        photo = ImageTk.PhotoImage(image)\n",
    "        label.config(image=photo)\n",
    "        label.image = photo\n",
    "\n",
    "root = tk.Tk()\n",
    "root.title(\"Simple Image Viewer\")\n",
    "\n",
    "button = tk.Button(root, text=\"Open Image\", command=open_image)\n",
    "button.pack()\n",
    "\n",
    "label = tk.Label(root)\n",
    "label.pack()\n",
    "\n",
    "root.mainloop()\n"
   ]
  }
 ],
 "metadata": {
  "kernelspec": {
   "display_name": "Python 3",
   "language": "python",
   "name": "python3"
  },
  "language_info": {
   "codemirror_mode": {
    "name": "ipython",
    "version": 3
   },
   "file_extension": ".py",
   "mimetype": "text/x-python",
   "name": "python",
   "nbconvert_exporter": "python",
   "pygments_lexer": "ipython3",
   "version": "3.11.5"
  }
 },
 "nbformat": 4,
 "nbformat_minor": 2
}
