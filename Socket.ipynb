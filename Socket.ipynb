{
 "cells": [
  {
   "cell_type": "markdown",
   "metadata": {},
   "source": [
    "Socket"
   ]
  },
  {
   "cell_type": "markdown",
   "metadata": {},
   "source": [
    "Server Side "
   ]
  },
  {
   "cell_type": "code",
   "execution_count": null,
   "metadata": {},
   "outputs": [],
   "source": [
    "import socket\n",
    "\n",
    "# Create a socket object\n",
    "server_socket = socket.socket(socket.AF_INET, socket.SOCK_STREAM)\n",
    "\n",
    "# Get local machine name\n",
    "host = socket.gethostname()\n",
    "port = 12345  # Reserve a port for your service.\n",
    "\n",
    "# Bind to the port\n",
    "server_socket.bind((host, port))\n",
    "\n",
    "# Now wait for client connection.\n",
    "server_socket.listen(5)\n",
    "\n",
    "print(\"Server listening on {}:{}\".format(host, port))\n",
    "\n",
    "while True:\n",
    "    # Establish connection with client.\n",
    "    client_socket, addr = server_socket.accept()\n",
    "    print('Got connection from', addr)\n",
    "\n",
    "    # Send a thank you message to the client.\n",
    "    client_socket.send(b'Thank you for connecting')\n",
    "\n",
    "    # Close the connection with the client\n",
    "    client_socket.close()\n"
   ]
  },
  {
   "cell_type": "markdown",
   "metadata": {},
   "source": [
    "Client Side "
   ]
  },
  {
   "cell_type": "code",
   "execution_count": null,
   "metadata": {},
   "outputs": [],
   "source": [
    "import socket\n",
    "import threading\n",
    "\n",
    "# Server configuration\n",
    "SERVER = '127.0.0.1'  # Standard loopback interface address (localhost)\n",
    "PORT = 55555          # Port to connect to\n",
    "\n",
    "# Function to receive messages from the server\n",
    "def receive_messages(client_socket):\n",
    "    while True:\n",
    "        try:\n",
    "            # Receive message from server\n",
    "            msg = client_socket.recv(1024).decode(\"utf-8\")\n",
    "            print(msg)\n",
    "        except Exception as e:\n",
    "            print(\"[ERROR]\", e)\n",
    "            break\n",
    "\n",
    "# Create a socket object\n",
    "client_socket = socket.socket(socket.AF_INET, socket.SOCK_STREAM)\n",
    "\n",
    "# Connect to server\n",
    "client_socket.connect((SERVER, PORT))\n",
    "\n",
    "# Start receiving messages in a separate thread\n",
    "receive_thread = threading.Thread(target=receive_messages, args=(client_socket,))\n",
    "receive_thread.start()\n",
    "\n",
    "# Send messages to server\n",
    "while True:\n",
    "    msg = input()\n",
    "    client_socket.send(msg.encode(\"utf-8\"))\n",
    "    if msg == \"exit\":\n",
    "        break\n",
    "\n",
    "# Close connection\n",
    "client_socket.close()\n"
   ]
  },
  {
   "cell_type": "code",
   "execution_count": null,
   "metadata": {},
   "outputs": [],
   "source": [
    "# echo-client.py\n",
    "\n",
    "import socket\n",
    "\n",
    "HOST = \"127.0.0.1\"  # The server's hostname or IP address\n",
    "PORT = 65432  # The port used by the server\n",
    "\n",
    "s = socket.socket(socket.AF_INET, socket.SOCK_STREAM)\n",
    "s.connect((HOST, PORT))\n",
    "s.send(b\"Hello, world.... sent by client\")\n",
    "\n",
    "#receive data from server and print it\n",
    "data = s.recv(1024)\n",
    "print(f\"Received {data!r}\")\n",
    "\n",
    " \n"
   ]
  },
  {
   "cell_type": "code",
   "execution_count": 3,
   "metadata": {},
   "outputs": [
    {
     "name": "stdout",
     "output_type": "stream",
     "text": [
      "socket binded to 65432\n",
      "socket is listening....\n"
     ]
    }
   ],
   "source": [
    "# echo-server.py\n",
    "\n",
    "\n",
    "\n",
    "# first of all import the socket library \n",
    "import socket\t\t\t \n",
    "\n",
    "HOST = \"127.0.0.1\"  # Standard loopback interface address (localhost)\n",
    "PORT = 65432  # Port to listen on (non-privileged ports are > 1023)\n",
    "\n",
    "s = socket.socket(socket.AF_INET, socket.SOCK_STREAM)\n",
    "\n",
    "\t\t\n",
    "\n",
    "# Next bind to the port \n",
    "# we have not typed any ip in the ip field \n",
    "# instead we have inputted an empty string \n",
    "# this makes the server listen to requests \n",
    "# coming from other computers on the network \n",
    "s.bind((HOST, PORT))\n",
    "s.listen()\n",
    "\n",
    "\t \n",
    "print (\"socket binded to %s\" %(PORT)) \n",
    "\n",
    "print (\"socket is listening....\")\t\t \n",
    "\n",
    "# a forever loop until we interrupt it or \n",
    "# an error occurs \n",
    "while True: \n",
    "\n",
    "    # Establish connection with client. \n",
    "    con, addr = s.accept()\t \n",
    "    print ('Got connection from', addr )\n",
    "\n",
    "    # send a thank you message to the client. encoding to send byte type. \n",
    "    con.send(b\"Thank you for connecting...sent by server\")\n",
    "\n",
    "    #receive data from client and print it\n",
    "    data = con.recv(1024) \n",
    "    print(f\"Received {data!r}\")\n",
    "\n",
    "    # Close the connection with the client \n",
    "    con.close()\n",
    "\n",
    "    # Breaking once connection closed\n",
    "    break\n",
    "\n",
    "\n",
    "# Use \"netstat -an\" command to show the service at cmd..."
   ]
  },
  {
   "cell_type": "code",
   "execution_count": null,
   "metadata": {},
   "outputs": [],
   "source": [
    "# An example script to connect to Google using socket \n",
    "# programming in Python \n",
    "import socket # for socket \n",
    "import sys \n",
    "\n",
    "try: \n",
    "\ts = socket.socket(socket.AF_INET, socket.SOCK_STREAM) \n",
    "\tprint (\"Socket successfully created\")\n",
    "except socket.error as err: \n",
    "\tprint (\"socket creation failed with error %s\" %(err))\n",
    "\n",
    "# default port for socket \n",
    "port = 80\n",
    "\n",
    "try: \n",
    "\thost_ip = socket.gethostbyname('www.google.com') \n",
    "except socket.gaierror: \n",
    "\n",
    "\t# this means could not resolve the host \n",
    "\tprint (\"there was an error resolving the host\")\n",
    "\tsys.exit() \n",
    "\n",
    "# connecting to the server \n",
    "s.connect((host_ip, port)) \n",
    "\n",
    "print (\"the socket has successfully connected to google\") \n",
    "print (host_ip)\n"
   ]
  },
  {
   "cell_type": "code",
   "execution_count": null,
   "metadata": {},
   "outputs": [],
   "source": []
  }
 ],
 "metadata": {
  "kernelspec": {
   "display_name": "Python 3",
   "language": "python",
   "name": "python3"
  },
  "language_info": {
   "codemirror_mode": {
    "name": "ipython",
    "version": 3
   },
   "file_extension": ".py",
   "mimetype": "text/x-python",
   "name": "python",
   "nbconvert_exporter": "python",
   "pygments_lexer": "ipython3",
   "version": "3.11.5"
  }
 },
 "nbformat": 4,
 "nbformat_minor": 2
}
